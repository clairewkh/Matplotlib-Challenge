{
 "cells": [
  {
   "cell_type": "markdown",
   "metadata": {},
   "source": [
    "## Observations and Insights "
   ]
  },
  {
   "cell_type": "markdown",
   "metadata": {},
   "source": [
    "3 Observations and Insights About this Data:\n",
    "    \n",
    "    1. My first observation is about the correlation between the weight of each mouse and their tumor volume. The correlation coefficient is 0.8419. This is a high correlation coefficient, suggesting that there is a strong positive corrlation between mouse's weight and their tumor volume. \n",
    "     \n",
    "    2. By looking at the piechart, we can conclude that the number of female and male mice are about 50% in each catagory. However, if we are looking at the bar graph, we can conclude that Capomulin and Ramicane are used more often in the study since there are more mice using those two drug regimen. \n",
    "    \n",
    "    3. By looking at the line graph for a specific mouse (\"W914\") that is treated by Capomulin, we can see that capomulin definately helped decrease the tumor volume in Mouse ID: W914. There is a significant drop in tumor volume day 35 to day 40. Suggesting that, Capomulin could works to reduce the tumor volume."
   ]
  },
  {
   "cell_type": "code",
   "execution_count": null,
   "metadata": {},
   "outputs": [],
   "source": [
    "%matplotlib inline"
   ]
  },
  {
   "cell_type": "code",
   "execution_count": 5,
   "metadata": {},
   "outputs": [
    {
     "data": {
      "text/html": [
       "<div>\n",
       "<style scoped>\n",
       "    .dataframe tbody tr th:only-of-type {\n",
       "        vertical-align: middle;\n",
       "    }\n",
       "\n",
       "    .dataframe tbody tr th {\n",
       "        vertical-align: top;\n",
       "    }\n",
       "\n",
       "    .dataframe thead th {\n",
       "        text-align: right;\n",
       "    }\n",
       "</style>\n",
       "<table border=\"1\" class=\"dataframe\">\n",
       "  <thead>\n",
       "    <tr style=\"text-align: right;\">\n",
       "      <th></th>\n",
       "      <th>Mouse ID</th>\n",
       "      <th>Drug Regimen</th>\n",
       "      <th>Sex</th>\n",
       "      <th>Age_months</th>\n",
       "      <th>Weight (g)</th>\n",
       "      <th>Timepoint</th>\n",
       "      <th>Tumor Volume (mm3)</th>\n",
       "      <th>Metastatic Sites</th>\n",
       "    </tr>\n",
       "  </thead>\n",
       "  <tbody>\n",
       "    <tr>\n",
       "      <th>0</th>\n",
       "      <td>k403</td>\n",
       "      <td>Ramicane</td>\n",
       "      <td>Male</td>\n",
       "      <td>21</td>\n",
       "      <td>16</td>\n",
       "      <td>0</td>\n",
       "      <td>45.000000</td>\n",
       "      <td>0</td>\n",
       "    </tr>\n",
       "    <tr>\n",
       "      <th>1</th>\n",
       "      <td>k403</td>\n",
       "      <td>Ramicane</td>\n",
       "      <td>Male</td>\n",
       "      <td>21</td>\n",
       "      <td>16</td>\n",
       "      <td>5</td>\n",
       "      <td>38.825898</td>\n",
       "      <td>0</td>\n",
       "    </tr>\n",
       "    <tr>\n",
       "      <th>2</th>\n",
       "      <td>k403</td>\n",
       "      <td>Ramicane</td>\n",
       "      <td>Male</td>\n",
       "      <td>21</td>\n",
       "      <td>16</td>\n",
       "      <td>10</td>\n",
       "      <td>35.014271</td>\n",
       "      <td>1</td>\n",
       "    </tr>\n",
       "    <tr>\n",
       "      <th>3</th>\n",
       "      <td>k403</td>\n",
       "      <td>Ramicane</td>\n",
       "      <td>Male</td>\n",
       "      <td>21</td>\n",
       "      <td>16</td>\n",
       "      <td>15</td>\n",
       "      <td>34.223992</td>\n",
       "      <td>1</td>\n",
       "    </tr>\n",
       "    <tr>\n",
       "      <th>4</th>\n",
       "      <td>k403</td>\n",
       "      <td>Ramicane</td>\n",
       "      <td>Male</td>\n",
       "      <td>21</td>\n",
       "      <td>16</td>\n",
       "      <td>20</td>\n",
       "      <td>32.997729</td>\n",
       "      <td>1</td>\n",
       "    </tr>\n",
       "    <tr>\n",
       "      <th>5</th>\n",
       "      <td>k403</td>\n",
       "      <td>Ramicane</td>\n",
       "      <td>Male</td>\n",
       "      <td>21</td>\n",
       "      <td>16</td>\n",
       "      <td>25</td>\n",
       "      <td>33.464577</td>\n",
       "      <td>1</td>\n",
       "    </tr>\n",
       "    <tr>\n",
       "      <th>6</th>\n",
       "      <td>k403</td>\n",
       "      <td>Ramicane</td>\n",
       "      <td>Male</td>\n",
       "      <td>21</td>\n",
       "      <td>16</td>\n",
       "      <td>30</td>\n",
       "      <td>31.099498</td>\n",
       "      <td>1</td>\n",
       "    </tr>\n",
       "    <tr>\n",
       "      <th>7</th>\n",
       "      <td>k403</td>\n",
       "      <td>Ramicane</td>\n",
       "      <td>Male</td>\n",
       "      <td>21</td>\n",
       "      <td>16</td>\n",
       "      <td>35</td>\n",
       "      <td>26.546993</td>\n",
       "      <td>1</td>\n",
       "    </tr>\n",
       "    <tr>\n",
       "      <th>8</th>\n",
       "      <td>k403</td>\n",
       "      <td>Ramicane</td>\n",
       "      <td>Male</td>\n",
       "      <td>21</td>\n",
       "      <td>16</td>\n",
       "      <td>40</td>\n",
       "      <td>24.365505</td>\n",
       "      <td>1</td>\n",
       "    </tr>\n",
       "    <tr>\n",
       "      <th>9</th>\n",
       "      <td>k403</td>\n",
       "      <td>Ramicane</td>\n",
       "      <td>Male</td>\n",
       "      <td>21</td>\n",
       "      <td>16</td>\n",
       "      <td>45</td>\n",
       "      <td>22.050126</td>\n",
       "      <td>1</td>\n",
       "    </tr>\n",
       "  </tbody>\n",
       "</table>\n",
       "</div>"
      ],
      "text/plain": [
       "  Mouse ID Drug Regimen   Sex  Age_months  Weight (g)  Timepoint  \\\n",
       "0     k403     Ramicane  Male          21          16          0   \n",
       "1     k403     Ramicane  Male          21          16          5   \n",
       "2     k403     Ramicane  Male          21          16         10   \n",
       "3     k403     Ramicane  Male          21          16         15   \n",
       "4     k403     Ramicane  Male          21          16         20   \n",
       "5     k403     Ramicane  Male          21          16         25   \n",
       "6     k403     Ramicane  Male          21          16         30   \n",
       "7     k403     Ramicane  Male          21          16         35   \n",
       "8     k403     Ramicane  Male          21          16         40   \n",
       "9     k403     Ramicane  Male          21          16         45   \n",
       "\n",
       "   Tumor Volume (mm3)  Metastatic Sites  \n",
       "0           45.000000                 0  \n",
       "1           38.825898                 0  \n",
       "2           35.014271                 1  \n",
       "3           34.223992                 1  \n",
       "4           32.997729                 1  \n",
       "5           33.464577                 1  \n",
       "6           31.099498                 1  \n",
       "7           26.546993                 1  \n",
       "8           24.365505                 1  \n",
       "9           22.050126                 1  "
      ]
     },
     "execution_count": 5,
     "metadata": {},
     "output_type": "execute_result"
    }
   ],
   "source": [
    "# Dependencies and Setup\n",
    "import matplotlib.pyplot as plt\n",
    "import pandas as pd\n",
    "import scipy.stats as st\n",
    "import numpy as np\n",
    "\n",
    "# Study data files\n",
    "mouse_metadata_path = \"data/Mouse_metadata.csv\"\n",
    "study_results_path = \"data/Study_results.csv\"\n",
    "\n",
    "# Read the mouse data and the study results\n",
    "mouse_metadata = pd.read_csv(mouse_metadata_path)\n",
    "study_results = pd.read_csv(study_results_path)\n",
    "\n",
    "# Combine the data into a single dataset\n",
    "mouse_com = pd.merge(mouse_metadata, study_results, how=\"outer\", on=[\"Mouse ID\"])\n",
    "\n",
    "# Display the data table for preview\n",
    "mouse_com.head(10)"
   ]
  },
  {
   "cell_type": "code",
   "execution_count": 39,
   "metadata": {},
   "outputs": [
    {
     "name": "stdout",
     "output_type": "stream",
     "text": [
      "The total number of mice: 249\n"
     ]
    }
   ],
   "source": [
    "# Checking the number of mice.\n",
    "tot_mice = mouse_com['Mouse ID'].nunique()\n",
    "tot_mice\n",
    "print('The total number of mice: ' + str(tot_mice))"
   ]
  },
  {
   "cell_type": "code",
   "execution_count": 7,
   "metadata": {},
   "outputs": [
    {
     "data": {
      "text/html": [
       "<div>\n",
       "<style scoped>\n",
       "    .dataframe tbody tr th:only-of-type {\n",
       "        vertical-align: middle;\n",
       "    }\n",
       "\n",
       "    .dataframe tbody tr th {\n",
       "        vertical-align: top;\n",
       "    }\n",
       "\n",
       "    .dataframe thead th {\n",
       "        text-align: right;\n",
       "    }\n",
       "</style>\n",
       "<table border=\"1\" class=\"dataframe\">\n",
       "  <thead>\n",
       "    <tr style=\"text-align: right;\">\n",
       "      <th></th>\n",
       "      <th>0</th>\n",
       "    </tr>\n",
       "  </thead>\n",
       "  <tbody>\n",
       "    <tr>\n",
       "      <th>0</th>\n",
       "      <td>g989</td>\n",
       "    </tr>\n",
       "  </tbody>\n",
       "</table>\n",
       "</div>"
      ],
      "text/plain": [
       "      0\n",
       "0  g989"
      ]
     },
     "execution_count": 7,
     "metadata": {},
     "output_type": "execute_result"
    }
   ],
   "source": [
    "# Getting the duplicate mice by ID number that shows up for Mouse ID and Timepoint. \n",
    "dupli_mice = mouse_com.loc[mouse_com.duplicated(subset=['Mouse ID','Timepoint',]),'Mouse ID'].unique()\n",
    "pd.DataFrame(dupli_mice)"
   ]
  },
  {
   "cell_type": "code",
   "execution_count": 9,
   "metadata": {},
   "outputs": [
    {
     "data": {
      "text/html": [
       "<div>\n",
       "<style scoped>\n",
       "    .dataframe tbody tr th:only-of-type {\n",
       "        vertical-align: middle;\n",
       "    }\n",
       "\n",
       "    .dataframe tbody tr th {\n",
       "        vertical-align: top;\n",
       "    }\n",
       "\n",
       "    .dataframe thead th {\n",
       "        text-align: right;\n",
       "    }\n",
       "</style>\n",
       "<table border=\"1\" class=\"dataframe\">\n",
       "  <thead>\n",
       "    <tr style=\"text-align: right;\">\n",
       "      <th></th>\n",
       "      <th>Mouse ID</th>\n",
       "      <th>Drug Regimen</th>\n",
       "      <th>Sex</th>\n",
       "      <th>Age_months</th>\n",
       "      <th>Weight (g)</th>\n",
       "      <th>Timepoint</th>\n",
       "      <th>Tumor Volume (mm3)</th>\n",
       "      <th>Metastatic Sites</th>\n",
       "    </tr>\n",
       "  </thead>\n",
       "  <tbody>\n",
       "    <tr>\n",
       "      <th>0</th>\n",
       "      <td>k403</td>\n",
       "      <td>Ramicane</td>\n",
       "      <td>Male</td>\n",
       "      <td>21</td>\n",
       "      <td>16</td>\n",
       "      <td>0</td>\n",
       "      <td>45.000000</td>\n",
       "      <td>0</td>\n",
       "    </tr>\n",
       "    <tr>\n",
       "      <th>1</th>\n",
       "      <td>k403</td>\n",
       "      <td>Ramicane</td>\n",
       "      <td>Male</td>\n",
       "      <td>21</td>\n",
       "      <td>16</td>\n",
       "      <td>5</td>\n",
       "      <td>38.825898</td>\n",
       "      <td>0</td>\n",
       "    </tr>\n",
       "    <tr>\n",
       "      <th>2</th>\n",
       "      <td>k403</td>\n",
       "      <td>Ramicane</td>\n",
       "      <td>Male</td>\n",
       "      <td>21</td>\n",
       "      <td>16</td>\n",
       "      <td>10</td>\n",
       "      <td>35.014271</td>\n",
       "      <td>1</td>\n",
       "    </tr>\n",
       "    <tr>\n",
       "      <th>3</th>\n",
       "      <td>k403</td>\n",
       "      <td>Ramicane</td>\n",
       "      <td>Male</td>\n",
       "      <td>21</td>\n",
       "      <td>16</td>\n",
       "      <td>15</td>\n",
       "      <td>34.223992</td>\n",
       "      <td>1</td>\n",
       "    </tr>\n",
       "    <tr>\n",
       "      <th>4</th>\n",
       "      <td>k403</td>\n",
       "      <td>Ramicane</td>\n",
       "      <td>Male</td>\n",
       "      <td>21</td>\n",
       "      <td>16</td>\n",
       "      <td>20</td>\n",
       "      <td>32.997729</td>\n",
       "      <td>1</td>\n",
       "    </tr>\n",
       "  </tbody>\n",
       "</table>\n",
       "</div>"
      ],
      "text/plain": [
       "  Mouse ID Drug Regimen   Sex  Age_months  Weight (g)  Timepoint  \\\n",
       "0     k403     Ramicane  Male          21          16          0   \n",
       "1     k403     Ramicane  Male          21          16          5   \n",
       "2     k403     Ramicane  Male          21          16         10   \n",
       "3     k403     Ramicane  Male          21          16         15   \n",
       "4     k403     Ramicane  Male          21          16         20   \n",
       "\n",
       "   Tumor Volume (mm3)  Metastatic Sites  \n",
       "0           45.000000                 0  \n",
       "1           38.825898                 0  \n",
       "2           35.014271                 1  \n",
       "3           34.223992                 1  \n",
       "4           32.997729                 1  "
      ]
     },
     "execution_count": 9,
     "metadata": {},
     "output_type": "execute_result"
    }
   ],
   "source": [
    "# Create a clean DataFrame by dropping the duplicate mouse by its ID.\n",
    "# Exclude Mouse IF g989\n",
    "update_mouse = mouse_com[mouse_com['Mouse ID'] != 'g989']\n",
    "update_mouse.head()"
   ]
  },
  {
   "cell_type": "code",
   "execution_count": 43,
   "metadata": {},
   "outputs": [
    {
     "name": "stdout",
     "output_type": "stream",
     "text": [
      "The total number of mice after data cleaning: 248\n"
     ]
    }
   ],
   "source": [
    "# Checking the number of mice in the clean DataFrame.\n",
    "update_mice_count = update_mouse['Mouse ID'].nunique()\n",
    "update_mice_count\n",
    "print('The total number of mice after data cleaning: ' + str(update_mice_count))"
   ]
  },
  {
   "cell_type": "markdown",
   "metadata": {},
   "source": [
    "## Summary Statistics"
   ]
  },
  {
   "cell_type": "code",
   "execution_count": null,
   "metadata": {},
   "outputs": [],
   "source": [
    "# Generate a summary statistics table of mean, median, variance, standard deviation, and SEM of the tumor volume for each regimen\n",
    "# Use groupby and summary statistical methods to calculate the following properties of each drug regimen: \n",
    "# mean, median, variance, standard deviation, and SEM of the tumor volume. \n",
    "# Assemble the resulting series into a single summary dataframe.\n",
    "\n"
   ]
  },
  {
   "cell_type": "code",
   "execution_count": 12,
   "metadata": {},
   "outputs": [
    {
     "data": {
      "text/html": [
       "<div>\n",
       "<style scoped>\n",
       "    .dataframe tbody tr th:only-of-type {\n",
       "        vertical-align: middle;\n",
       "    }\n",
       "\n",
       "    .dataframe tbody tr th {\n",
       "        vertical-align: top;\n",
       "    }\n",
       "\n",
       "    .dataframe thead th {\n",
       "        text-align: right;\n",
       "    }\n",
       "</style>\n",
       "<table border=\"1\" class=\"dataframe\">\n",
       "  <thead>\n",
       "    <tr style=\"text-align: right;\">\n",
       "      <th></th>\n",
       "      <th>Tumor Vol Mean</th>\n",
       "      <th>Tumor Vol Median</th>\n",
       "      <th>Tumor Vol Variance</th>\n",
       "      <th>Tumor Vol Standard Deviation</th>\n",
       "      <th>Tumor Vol SEM</th>\n",
       "    </tr>\n",
       "    <tr>\n",
       "      <th>Drug Regimen</th>\n",
       "      <th></th>\n",
       "      <th></th>\n",
       "      <th></th>\n",
       "      <th></th>\n",
       "      <th></th>\n",
       "    </tr>\n",
       "  </thead>\n",
       "  <tbody>\n",
       "    <tr>\n",
       "      <th>Capomulin</th>\n",
       "      <td>40.675741</td>\n",
       "      <td>41.557809</td>\n",
       "      <td>24.947764</td>\n",
       "      <td>4.994774</td>\n",
       "      <td>0.329346</td>\n",
       "    </tr>\n",
       "    <tr>\n",
       "      <th>Ceftamin</th>\n",
       "      <td>52.591172</td>\n",
       "      <td>51.776157</td>\n",
       "      <td>39.290177</td>\n",
       "      <td>6.268188</td>\n",
       "      <td>0.469821</td>\n",
       "    </tr>\n",
       "    <tr>\n",
       "      <th>Infubinol</th>\n",
       "      <td>52.884795</td>\n",
       "      <td>51.820584</td>\n",
       "      <td>43.128684</td>\n",
       "      <td>6.567243</td>\n",
       "      <td>0.492236</td>\n",
       "    </tr>\n",
       "    <tr>\n",
       "      <th>Ketapril</th>\n",
       "      <td>55.235638</td>\n",
       "      <td>53.698743</td>\n",
       "      <td>68.553577</td>\n",
       "      <td>8.279709</td>\n",
       "      <td>0.603860</td>\n",
       "    </tr>\n",
       "    <tr>\n",
       "      <th>Naftisol</th>\n",
       "      <td>54.331565</td>\n",
       "      <td>52.509285</td>\n",
       "      <td>66.173479</td>\n",
       "      <td>8.134708</td>\n",
       "      <td>0.596466</td>\n",
       "    </tr>\n",
       "    <tr>\n",
       "      <th>Placebo</th>\n",
       "      <td>54.033581</td>\n",
       "      <td>52.288934</td>\n",
       "      <td>61.168083</td>\n",
       "      <td>7.821003</td>\n",
       "      <td>0.581331</td>\n",
       "    </tr>\n",
       "    <tr>\n",
       "      <th>Propriva</th>\n",
       "      <td>52.320930</td>\n",
       "      <td>50.446266</td>\n",
       "      <td>43.852013</td>\n",
       "      <td>6.622085</td>\n",
       "      <td>0.544332</td>\n",
       "    </tr>\n",
       "    <tr>\n",
       "      <th>Ramicane</th>\n",
       "      <td>40.216745</td>\n",
       "      <td>40.673236</td>\n",
       "      <td>23.486704</td>\n",
       "      <td>4.846308</td>\n",
       "      <td>0.320955</td>\n",
       "    </tr>\n",
       "    <tr>\n",
       "      <th>Stelasyn</th>\n",
       "      <td>54.233149</td>\n",
       "      <td>52.431737</td>\n",
       "      <td>59.450562</td>\n",
       "      <td>7.710419</td>\n",
       "      <td>0.573111</td>\n",
       "    </tr>\n",
       "    <tr>\n",
       "      <th>Zoniferol</th>\n",
       "      <td>53.236507</td>\n",
       "      <td>51.818479</td>\n",
       "      <td>48.533355</td>\n",
       "      <td>6.966589</td>\n",
       "      <td>0.516398</td>\n",
       "    </tr>\n",
       "  </tbody>\n",
       "</table>\n",
       "</div>"
      ],
      "text/plain": [
       "              Tumor Vol Mean  Tumor Vol Median  Tumor Vol Variance  \\\n",
       "Drug Regimen                                                         \n",
       "Capomulin          40.675741         41.557809           24.947764   \n",
       "Ceftamin           52.591172         51.776157           39.290177   \n",
       "Infubinol          52.884795         51.820584           43.128684   \n",
       "Ketapril           55.235638         53.698743           68.553577   \n",
       "Naftisol           54.331565         52.509285           66.173479   \n",
       "Placebo            54.033581         52.288934           61.168083   \n",
       "Propriva           52.320930         50.446266           43.852013   \n",
       "Ramicane           40.216745         40.673236           23.486704   \n",
       "Stelasyn           54.233149         52.431737           59.450562   \n",
       "Zoniferol          53.236507         51.818479           48.533355   \n",
       "\n",
       "              Tumor Vol Standard Deviation  Tumor Vol SEM  \n",
       "Drug Regimen                                               \n",
       "Capomulin                         4.994774       0.329346  \n",
       "Ceftamin                          6.268188       0.469821  \n",
       "Infubinol                         6.567243       0.492236  \n",
       "Ketapril                          8.279709       0.603860  \n",
       "Naftisol                          8.134708       0.596466  \n",
       "Placebo                           7.821003       0.581331  \n",
       "Propriva                          6.622085       0.544332  \n",
       "Ramicane                          4.846308       0.320955  \n",
       "Stelasyn                          7.710419       0.573111  \n",
       "Zoniferol                         6.966589       0.516398  "
      ]
     },
     "execution_count": 12,
     "metadata": {},
     "output_type": "execute_result"
    }
   ],
   "source": [
    "#Summary Stats for Tumor Volume grouped by Drug Regimen\n",
    "grouped_drug = update_mouse.groupby('Drug Regimen')\n",
    "tumor_mean = grouped_drug['Tumor Volume (mm3)'].mean()\n",
    "tumor_med = grouped_drug['Tumor Volume (mm3)'].median()\n",
    "tumor_var = grouped_drug['Tumor Volume (mm3)'].var()\n",
    "tumor_sd = grouped_drug['Tumor Volume (mm3)'].std()\n",
    "tumor_sem = grouped_drug['Tumor Volume (mm3)'].sem()\n",
    "\n",
    "# Storing the summary stats into a data frame\n",
    "drug_sum = {\"Tumor Vol Mean\": tumor_mean,\"Tumor Vol Median\": tumor_med,\"Tumor Vol Variance\": tumor_var,\n",
    "           \"Tumor Vol Standard Deviation\": tumor_sd, \"Tumor Vol SEM\": tumor_sem}\n",
    "drug_summary = pd.DataFrame(drug_sum)\n",
    "drug_summary"
   ]
  },
  {
   "cell_type": "markdown",
   "metadata": {},
   "source": [
    "## Bar and Pie Charts"
   ]
  },
  {
   "cell_type": "code",
   "execution_count": 13,
   "metadata": {},
   "outputs": [
    {
     "data": {
      "text/plain": [
       "<AxesSubplot:title={'center':'Bar Chart: Number of Mice in Each Drug Regimen'}, xlabel='Drug Regimen', ylabel='Total Number of Mice'>"
      ]
     },
     "execution_count": 13,
     "metadata": {},
     "output_type": "execute_result"
    },
    {
     "data": {
      "image/png": "[encoded data removed]",
      "text/plain": [
       "<Figure size 432x288 with 1 Axes>"
      ]
     },
     "metadata": {
      "needs_background": "light"
     },
     "output_type": "display_data"
    }
   ],
   "source": [
    "# Generate a bar plot showing the total number of measurements taken on each drug regimen using pandas.\n",
    "grouped_drug.head(10)\n",
    "drug_bar = mouse_com['Drug Regimen'].value_counts()\n",
    "drug_bar.plot(kind = 'bar', xlabel = \"Drug Regimen\", ylabel = \"Total Number of Mice\", \n",
    "              title = \"Bar Chart: Number of Mice in Each Drug Regimen\")"
   ]
  },
  {
   "cell_type": "code",
   "execution_count": 76,
   "metadata": {},
   "outputs": [
    {
     "data": {
      "text/plain": [
       "(-0.75, 9.75)"
      ]
     },
     "execution_count": 76,
     "metadata": {},
     "output_type": "execute_result"
    },
    {
     "data": {
      "image/png": "[encoded data removed]",
      "text/plain": [
       "<Figure size 432x288 with 1 Axes>"
      ]
     },
     "metadata": {
      "needs_background": "light"
     },
     "output_type": "display_data"
    }
   ],
   "source": [
    "# Generate a bar plot showing the total number of measurements taken on each drug regimen using pyplot.\n",
    "x_axis = np.arange(len(drug_bar))\n",
    "plt.bar(x_axis,drug_bar,width = 0.6)\n",
    "plt.xlabel(\"Drug Regimen\")\n",
    "plt.ylabel(\"Total Number of Mice\")\n",
    "plt.title(\"Bar Chart: Number of Mice in Each Drug Regimen\")\n",
    "ticks_name = [val for val in x_axis]\n",
    "plt.xticks(ticks_name, drug_bar.index.values, rotation = \"vertical\")\n",
    "plt.xlim(-0.75,len(x_axis)-0.25)\n"
   ]
  },
  {
   "cell_type": "code",
   "execution_count": 15,
   "metadata": {},
   "outputs": [
    {
     "data": {
      "text/plain": [
       "<AxesSubplot:title={'center':'Female vs. Male Mice'}>"
      ]
     },
     "execution_count": 15,
     "metadata": {},
     "output_type": "execute_result"
    },
    {
     "data": {
      "image/png": "[encoded data removed]",
      "text/plain": [
       "<Figure size 432x288 with 1 Axes>"
      ]
     },
     "metadata": {},
     "output_type": "display_data"
    }
   ],
   "source": [
    "# Generate a pie plot showing the distribution of female versus male mice using pandas\n",
    "sex = mouse_com['Sex'].value_counts()\n",
    "sex.plot(kind = 'pie', title = \"Female vs. Male Mice\",explode = (0.1,0), colors = (\"lightblue\",\"lightcoral\"),autopct = \"%1.3f%%\",ylabel = \"\")\n"
   ]
  },
  {
   "cell_type": "code",
   "execution_count": 16,
   "metadata": {},
   "outputs": [
    {
     "data": {
      "image/png": "[encoded data removed]",
      "text/plain": [
       "<Figure size 432x288 with 1 Axes>"
      ]
     },
     "metadata": {},
     "output_type": "display_data"
    }
   ],
   "source": [
    "# Generate a pie plot showing the distribution of female versus male mice using pyplot\n",
    "labels = [\"Male\",\"Female\"]\n",
    "colors = ['lightblue','lightcoral']\n",
    "explode = (0.1 , 0)\n",
    "plt.pie(sex, labels=labels, colors=colors, explode = explode, autopct = \"%1.3f%%\")\n",
    "plt.title(\"Female vs. Male Mice\")\n",
    "plt.show()"
   ]
  },
  {
   "cell_type": "markdown",
   "metadata": {},
   "source": [
    "## Quartiles, Outliers and Boxplots"
   ]
  },
  {
   "cell_type": "code",
   "execution_count": 17,
   "metadata": {},
   "outputs": [
    {
     "data": {
      "text/html": [
       "<div>\n",
       "<style scoped>\n",
       "    .dataframe tbody tr th:only-of-type {\n",
       "        vertical-align: middle;\n",
       "    }\n",
       "\n",
       "    .dataframe tbody tr th {\n",
       "        vertical-align: top;\n",
       "    }\n",
       "\n",
       "    .dataframe thead th {\n",
       "        text-align: right;\n",
       "    }\n",
       "</style>\n",
       "<table border=\"1\" class=\"dataframe\">\n",
       "  <thead>\n",
       "    <tr style=\"text-align: right;\">\n",
       "      <th></th>\n",
       "      <th>Mouse ID</th>\n",
       "      <th>Timepoint</th>\n",
       "      <th>Drug Regimen</th>\n",
       "      <th>Sex</th>\n",
       "      <th>Age_months</th>\n",
       "      <th>Weight (g)</th>\n",
       "      <th>Tumor Volume (mm3)</th>\n",
       "      <th>Metastatic Sites</th>\n",
       "    </tr>\n",
       "  </thead>\n",
       "  <tbody>\n",
       "    <tr>\n",
       "      <th>0</th>\n",
       "      <td>b128</td>\n",
       "      <td>45</td>\n",
       "      <td>Capomulin</td>\n",
       "      <td>Female</td>\n",
       "      <td>9</td>\n",
       "      <td>22</td>\n",
       "      <td>38.982878</td>\n",
       "      <td>2</td>\n",
       "    </tr>\n",
       "    <tr>\n",
       "      <th>1</th>\n",
       "      <td>b742</td>\n",
       "      <td>45</td>\n",
       "      <td>Capomulin</td>\n",
       "      <td>Male</td>\n",
       "      <td>7</td>\n",
       "      <td>21</td>\n",
       "      <td>38.939633</td>\n",
       "      <td>0</td>\n",
       "    </tr>\n",
       "    <tr>\n",
       "      <th>2</th>\n",
       "      <td>f966</td>\n",
       "      <td>20</td>\n",
       "      <td>Capomulin</td>\n",
       "      <td>Male</td>\n",
       "      <td>16</td>\n",
       "      <td>17</td>\n",
       "      <td>30.485985</td>\n",
       "      <td>0</td>\n",
       "    </tr>\n",
       "    <tr>\n",
       "      <th>3</th>\n",
       "      <td>g288</td>\n",
       "      <td>45</td>\n",
       "      <td>Capomulin</td>\n",
       "      <td>Male</td>\n",
       "      <td>3</td>\n",
       "      <td>19</td>\n",
       "      <td>37.074024</td>\n",
       "      <td>1</td>\n",
       "    </tr>\n",
       "    <tr>\n",
       "      <th>4</th>\n",
       "      <td>g316</td>\n",
       "      <td>45</td>\n",
       "      <td>Capomulin</td>\n",
       "      <td>Female</td>\n",
       "      <td>22</td>\n",
       "      <td>22</td>\n",
       "      <td>40.159220</td>\n",
       "      <td>2</td>\n",
       "    </tr>\n",
       "  </tbody>\n",
       "</table>\n",
       "</div>"
      ],
      "text/plain": [
       "  Mouse ID  Timepoint Drug Regimen     Sex  Age_months  Weight (g)  \\\n",
       "0     b128         45    Capomulin  Female           9          22   \n",
       "1     b742         45    Capomulin    Male           7          21   \n",
       "2     f966         20    Capomulin    Male          16          17   \n",
       "3     g288         45    Capomulin    Male           3          19   \n",
       "4     g316         45    Capomulin  Female          22          22   \n",
       "\n",
       "   Tumor Volume (mm3)  Metastatic Sites  \n",
       "0           38.982878                 2  \n",
       "1           38.939633                 0  \n",
       "2           30.485985                 0  \n",
       "3           37.074024                 1  \n",
       "4           40.159220                 2  "
      ]
     },
     "execution_count": 17,
     "metadata": {},
     "output_type": "execute_result"
    }
   ],
   "source": [
    "# Calculate the final tumor volume of each mouse across four of the treatment regimens:  \n",
    "# Capomulin, Ramicane, Infubinol, and Ceftamin\n",
    "capomulin = mouse_com.loc[mouse_com['Drug Regimen']=='Capomulin', :]\n",
    "ramicane = mouse_com.loc[mouse_com['Drug Regimen']=='Ramicane', :]\n",
    "infubinol = mouse_com.loc[mouse_com['Drug Regimen']=='Infubinol', :]\n",
    "ceftamin = mouse_com.loc[mouse_com['Drug Regimen']=='Ceftamin', :]\n",
    "\n",
    "# Start by getting the last (greatest) timepoint for each mouse\n",
    "cap_last = pd.DataFrame(capomulin.groupby('Mouse ID').max()['Timepoint'])\n",
    "ram_last = pd.DataFrame(ramicane.groupby('Mouse ID').max()['Timepoint'])\n",
    "inf_last = pd.DataFrame(infubinol.groupby('Mouse ID').max()['Timepoint'])\n",
    "cef_last = pd.DataFrame(ceftamin.groupby('Mouse ID').max()['Timepoint'])\n",
    "\n",
    "# Merge this group df with the original dataframe to get the tumor volume at the last timepoint\n",
    "cap_merge = pd.merge(cap_last,mouse_com,how='left', on =('Mouse ID','Timepoint'))\n",
    "ram_merge = pd.merge(ram_last,mouse_com,how='left', on =('Mouse ID','Timepoint'))\n",
    "inf_merge = pd.merge(inf_last,mouse_com,how='left', on =('Mouse ID','Timepoint'))\n",
    "cef_merge = pd.merge(cef_last,mouse_com,how='left', on =('Mouse ID','Timepoint'))\n",
    "\n",
    "cap_merge.head()"
   ]
  },
  {
   "cell_type": "code",
   "execution_count": 18,
   "metadata": {},
   "outputs": [
    {
     "name": "stdout",
     "output_type": "stream",
     "text": [
      "Capomulin Summary\n",
      "\n",
      "Lower Quartile(Q1): 32.37735684\n",
      "Upper Quartile(Q3): 40.1592203\n",
      "IQR (Q3-Q1): 7.781863460000004\n",
      "Lower Bound: 20.70456164999999\n",
      "Upper BOund: 51.83201549\n",
      "Outliers: Outliers falls below 20.70456164999999 & above 51.83201549. There are no outliers.\n"
     ]
    }
   ],
   "source": [
    "# Calculate the IQR and quantitatively determine if there are any potential outliers. \n",
    "# Capomulin Summary\n",
    "cap_summary = cap_merge['Tumor Volume (mm3)']\n",
    "cap_summary\n",
    "q_cap = cap_summary.quantile([0.25,0.5,0.75])\n",
    "lowerq_cap = q_cap[0.25]\n",
    "upperq_cap = q_cap[0.75]\n",
    "iqr_cap = upperq_cap - lowerq_cap\n",
    "lower_bound_cap = lowerq_cap - (1.5*iqr_cap)\n",
    "upper_bound_cap = upperq_cap + (1.5*iqr_cap)\n",
    "print('Capomulin Summary')\n",
    "print('')\n",
    "print(f'Lower Quartile(Q1): {lowerq_cap}')\n",
    "print(f'Upper Quartile(Q3): {upperq_cap}')\n",
    "print(f'IQR (Q3-Q1): {iqr_cap}')\n",
    "print(f'Lower Bound: {lower_bound_cap}')\n",
    "print(f'Upper BOund: {upper_bound_cap}')\n",
    "out_cap = cap_merge.loc[(cap_merge['Tumor Volume (mm3)'] < lower_bound_cap) | \n",
    "                        (cap_merge['Tumor Volume (mm3)'] > upper_bound_cap)]\n",
    "\n",
    "if ((lower_bound_cap > cap_summary.min()) | (upper_bound_cap < cap_summary.max())):\n",
    "    print(f'Outliers: Outliers falls below {lower_bound_cap} & above {upper_bound_cap}. These are the outliers')\n",
    "    print (out_cap)\n",
    "else:\n",
    "    print(f'Outliers: Outliers falls below {lower_bound_cap} & above {upper_bound_cap}. There are no outliers.')\n",
    "    \n",
    "    "
   ]
  },
  {
   "cell_type": "code",
   "execution_count": 19,
   "metadata": {},
   "outputs": [
    {
     "name": "stdout",
     "output_type": "stream",
     "text": [
      "Ramicane Summary\n",
      "\n",
      "Lower Quartile(Q1): 31.56046955\n",
      "Upper Quartile(Q3): 40.65900627\n",
      "IQR (Q3-Q1): 9.098536719999998\n",
      "Lower Bound: 17.912664470000003\n",
      "Upper BOund: 54.30681135\n",
      "Outliers: Outliers falls below 17.912664470000003 & above 54.30681135. There are no outliers.\n"
     ]
    }
   ],
   "source": [
    "# Ramicane Summary\n",
    "ram_summary = ram_merge['Tumor Volume (mm3)']\n",
    "ram_summary\n",
    "q_ram = ram_summary.quantile([0.25,0.5,0.75])\n",
    "lowerq_ram = q_ram[0.25]\n",
    "upperq_ram = q_ram[0.75]\n",
    "iqr_ram = upperq_ram - lowerq_ram\n",
    "lower_bound_ram = lowerq_ram - (1.5*iqr_ram)\n",
    "upper_bound_ram = upperq_ram + (1.5*iqr_ram)\n",
    "\n",
    "print('Ramicane Summary')\n",
    "print('')\n",
    "print(f'Lower Quartile(Q1): {lowerq_ram}')\n",
    "print(f'Upper Quartile(Q3): {upperq_ram}')\n",
    "print(f'IQR (Q3-Q1): {iqr_ram}')\n",
    "print(f'Lower Bound: {lower_bound_ram}')\n",
    "print(f'Upper BOund: {upper_bound_ram}')\n",
    "out_ram = ram_merge.loc[(ram_merge['Tumor Volume (mm3)'] < lower_bound_ram) | \n",
    "                        (ram_merge['Tumor Volume (mm3)'] > upper_bound_ram)]\n",
    "\n",
    "if ((lower_bound_ram > ram_summary.min()) | (upper_bound_ram < ram_summary.max())):\n",
    "    print(f'Outliers: Outliers falls below {lower_bound_ram} & above {upper_bound_ram}. These are the outliers')\n",
    "    print (out_ram)\n",
    "else:\n",
    "    print(f'Outliers: Outliers falls below {lower_bound_ram} & above {upper_bound_ram}. There are no outliers.')\n",
    "    "
   ]
  },
  {
   "cell_type": "code",
   "execution_count": 20,
   "metadata": {},
   "outputs": [
    {
     "name": "stdout",
     "output_type": "stream",
     "text": [
      "Infubinol Summary\n",
      "\n",
      "Lower Quartile(Q1): 54.04860769\n",
      "Upper Quartile(Q3): 65.52574285\n",
      "IQR (Q3-Q1): 11.477135160000003\n",
      "Lower Bound: 36.83290494999999\n",
      "Upper BOund: 82.74144559000001\n",
      "Outliers: Outliers falls below 36.83290494999999 & above 82.74144559000001. These are the outliers:\n",
      "\n",
      "  Mouse ID  Timepoint Drug Regimen     Sex  Age_months  Weight (g)  \\\n",
      "5     c326          5    Infubinol  Female          18          25   \n",
      "\n",
      "   Tumor Volume (mm3)  Metastatic Sites  \n",
      "5           36.321346                 0  \n"
     ]
    }
   ],
   "source": [
    "# Infubinol Summary\n",
    "inf_summary = inf_merge['Tumor Volume (mm3)']\n",
    "inf_summary\n",
    "q_inf = inf_summary.quantile([0.25,0.5,0.75])\n",
    "lowerq_inf = q_inf[0.25]\n",
    "upperq_inf = q_inf[0.75]\n",
    "iqr_inf = upperq_inf - lowerq_inf\n",
    "lower_bound_inf = lowerq_inf - (1.5*iqr_inf)\n",
    "upper_bound_inf = upperq_inf + (1.5*iqr_inf)\n",
    "\n",
    "\n",
    "print('Infubinol Summary')\n",
    "print('')\n",
    "print(f'Lower Quartile(Q1): {lowerq_inf}')\n",
    "print(f'Upper Quartile(Q3): {upperq_inf}')\n",
    "print(f'IQR (Q3-Q1): {iqr_inf}')\n",
    "print(f'Lower Bound: {lower_bound_inf}')\n",
    "print(f'Upper BOund: {upper_bound_inf}')\n",
    "out_inf = inf_merge.loc[(inf_merge['Tumor Volume (mm3)'] < lower_bound_inf) | \n",
    "                        (inf_merge['Tumor Volume (mm3)'] > upper_bound_inf)]\n",
    "\n",
    "if ((lower_bound_inf > inf_summary.min()) | (upper_bound_inf < inf_summary.max())):\n",
    "    print(f'Outliers: Outliers falls below {lower_bound_inf} & above {upper_bound_inf}. These are the outliers:')\n",
    "    print('')\n",
    "    print (out_inf)\n",
    "else:\n",
    "    print(f'Outliers: Outliers falls below {lower_bound_inf} & above {upper_bound_inf}. There are no outliers.')\n",
    "    \n"
   ]
  },
  {
   "cell_type": "code",
   "execution_count": 21,
   "metadata": {},
   "outputs": [
    {
     "name": "stdout",
     "output_type": "stream",
     "text": [
      "Ceftamin Summary\n",
      "\n",
      "Lower Quartile(Q1): 48.72207785\n",
      "Upper Quartile(Q3): 64.29983003\n",
      "IQR (Q3-Q1): 15.577752179999997\n",
      "Lower Bound: 25.355449580000002\n",
      "Upper BOund: 87.66645829999999\n",
      "Outliers: Outliers falls below 25.355449580000002 & above 87.66645829999999. There are no outliers.\n"
     ]
    }
   ],
   "source": [
    "# Ceftamin Summary\n",
    "cef_summary = cef_merge['Tumor Volume (mm3)']\n",
    "cef_summary\n",
    "q_cef = cef_summary.quantile([0.25,0.5,0.75])\n",
    "lowerq_cef = q_cef[0.25]\n",
    "upperq_cef = q_cef[0.75]\n",
    "iqr_cef = upperq_cef - lowerq_cef\n",
    "lower_bound_cef = lowerq_cef - (1.5*iqr_cef)\n",
    "upper_bound_cef = upperq_cef + (1.5*iqr_cef)\n",
    "\n",
    "\n",
    "print('Ceftamin Summary')\n",
    "print('')\n",
    "print(f'Lower Quartile(Q1): {lowerq_cef}')\n",
    "print(f'Upper Quartile(Q3): {upperq_cef}')\n",
    "print(f'IQR (Q3-Q1): {iqr_cef}')\n",
    "print(f'Lower Bound: {lower_bound_cef}')\n",
    "print(f'Upper BOund: {upper_bound_cef}')\n",
    "out_cef = cef_merge.loc[(cef_merge['Tumor Volume (mm3)'] < lower_bound_cef) | \n",
    "                        (cef_merge['Tumor Volume (mm3)'] > upper_bound_cef)]\n",
    "\n",
    "if ((lower_bound_cef > cef_summary.min()) | (upper_bound_cef < cef_summary.max())):\n",
    "    print(f'Outliers: Outliers falls below {lower_bound_cef} & above {upper_bound_cef}. These are the outliers')\n",
    "    print (out_cef)\n",
    "else:\n",
    "    print(f'Outliers: Outliers falls below {lower_bound_cef} & above {upper_bound_cef}. There are no outliers.')\n",
    "    "
   ]
  },
  {
   "cell_type": "code",
   "execution_count": 22,
   "metadata": {},
   "outputs": [
    {
     "data": {
      "text/plain": [
       "Text(0, 0.5, 'Tumor Volume (mm3)')"
      ]
     },
     "execution_count": 22,
     "metadata": {},
     "output_type": "execute_result"
    },
    {
     "data": {
      "image/png": "[encoded data removed]",
      "text/plain": [
       "<Figure size 576x432 with 1 Axes>"
      ]
     },
     "metadata": {
      "needs_background": "light"
     },
     "output_type": "display_data"
    }
   ],
   "source": [
    "# Generate a box plot of the final tumor volume of each mouse across four regimens of interest\n",
    "fig,ax = plt.subplots(figsize=(8,6))\n",
    "fig.suptitle('Final Tumor Volume of each mouse across Four Regimens',fontsize=20, fontweight=\"bold\")\n",
    "ax.boxplot([cap_summary,ram_summary,inf_summary,cef_summary], labels = ['Capomulin', 'Ramicane', 'Infubinol', 'Ceftamin'])\n",
    "ax.set_xlabel('Drug',fontsize =15)\n",
    "ax.set_ylabel('Tumor Volume (mm3)',fontsize = 15)"
   ]
  },
  {
   "cell_type": "markdown",
   "metadata": {},
   "source": [
    "## Line and Scatter Plots"
   ]
  },
  {
   "cell_type": "code",
   "execution_count": 23,
   "metadata": {},
   "outputs": [
    {
     "data": {
      "text/html": [
       "<div>\n",
       "<style scoped>\n",
       "    .dataframe tbody tr th:only-of-type {\n",
       "        vertical-align: middle;\n",
       "    }\n",
       "\n",
       "    .dataframe tbody tr th {\n",
       "        vertical-align: top;\n",
       "    }\n",
       "\n",
       "    .dataframe thead th {\n",
       "        text-align: right;\n",
       "    }\n",
       "</style>\n",
       "<table border=\"1\" class=\"dataframe\">\n",
       "  <thead>\n",
       "    <tr style=\"text-align: right;\">\n",
       "      <th></th>\n",
       "      <th>Mouse ID</th>\n",
       "      <th>Drug Regimen</th>\n",
       "      <th>Sex</th>\n",
       "      <th>Age_months</th>\n",
       "      <th>Weight (g)</th>\n",
       "      <th>Timepoint</th>\n",
       "      <th>Tumor Volume (mm3)</th>\n",
       "      <th>Metastatic Sites</th>\n",
       "    </tr>\n",
       "  </thead>\n",
       "  <tbody>\n",
       "    <tr>\n",
       "      <th>215</th>\n",
       "      <td>w914</td>\n",
       "      <td>Capomulin</td>\n",
       "      <td>Male</td>\n",
       "      <td>24</td>\n",
       "      <td>21</td>\n",
       "      <td>0</td>\n",
       "      <td>45.000000</td>\n",
       "      <td>0</td>\n",
       "    </tr>\n",
       "    <tr>\n",
       "      <th>216</th>\n",
       "      <td>w914</td>\n",
       "      <td>Capomulin</td>\n",
       "      <td>Male</td>\n",
       "      <td>24</td>\n",
       "      <td>21</td>\n",
       "      <td>5</td>\n",
       "      <td>45.893720</td>\n",
       "      <td>0</td>\n",
       "    </tr>\n",
       "    <tr>\n",
       "      <th>217</th>\n",
       "      <td>w914</td>\n",
       "      <td>Capomulin</td>\n",
       "      <td>Male</td>\n",
       "      <td>24</td>\n",
       "      <td>21</td>\n",
       "      <td>10</td>\n",
       "      <td>43.231963</td>\n",
       "      <td>0</td>\n",
       "    </tr>\n",
       "    <tr>\n",
       "      <th>218</th>\n",
       "      <td>w914</td>\n",
       "      <td>Capomulin</td>\n",
       "      <td>Male</td>\n",
       "      <td>24</td>\n",
       "      <td>21</td>\n",
       "      <td>15</td>\n",
       "      <td>43.688449</td>\n",
       "      <td>0</td>\n",
       "    </tr>\n",
       "    <tr>\n",
       "      <th>219</th>\n",
       "      <td>w914</td>\n",
       "      <td>Capomulin</td>\n",
       "      <td>Male</td>\n",
       "      <td>24</td>\n",
       "      <td>21</td>\n",
       "      <td>20</td>\n",
       "      <td>41.108092</td>\n",
       "      <td>0</td>\n",
       "    </tr>\n",
       "    <tr>\n",
       "      <th>220</th>\n",
       "      <td>w914</td>\n",
       "      <td>Capomulin</td>\n",
       "      <td>Male</td>\n",
       "      <td>24</td>\n",
       "      <td>21</td>\n",
       "      <td>25</td>\n",
       "      <td>40.291917</td>\n",
       "      <td>0</td>\n",
       "    </tr>\n",
       "    <tr>\n",
       "      <th>221</th>\n",
       "      <td>w914</td>\n",
       "      <td>Capomulin</td>\n",
       "      <td>Male</td>\n",
       "      <td>24</td>\n",
       "      <td>21</td>\n",
       "      <td>30</td>\n",
       "      <td>40.993110</td>\n",
       "      <td>0</td>\n",
       "    </tr>\n",
       "    <tr>\n",
       "      <th>222</th>\n",
       "      <td>w914</td>\n",
       "      <td>Capomulin</td>\n",
       "      <td>Male</td>\n",
       "      <td>24</td>\n",
       "      <td>21</td>\n",
       "      <td>35</td>\n",
       "      <td>41.664916</td>\n",
       "      <td>1</td>\n",
       "    </tr>\n",
       "    <tr>\n",
       "      <th>223</th>\n",
       "      <td>w914</td>\n",
       "      <td>Capomulin</td>\n",
       "      <td>Male</td>\n",
       "      <td>24</td>\n",
       "      <td>21</td>\n",
       "      <td>40</td>\n",
       "      <td>35.611309</td>\n",
       "      <td>2</td>\n",
       "    </tr>\n",
       "    <tr>\n",
       "      <th>224</th>\n",
       "      <td>w914</td>\n",
       "      <td>Capomulin</td>\n",
       "      <td>Male</td>\n",
       "      <td>24</td>\n",
       "      <td>21</td>\n",
       "      <td>45</td>\n",
       "      <td>36.041047</td>\n",
       "      <td>2</td>\n",
       "    </tr>\n",
       "  </tbody>\n",
       "</table>\n",
       "</div>"
      ],
      "text/plain": [
       "    Mouse ID Drug Regimen   Sex  Age_months  Weight (g)  Timepoint  \\\n",
       "215     w914    Capomulin  Male          24          21          0   \n",
       "216     w914    Capomulin  Male          24          21          5   \n",
       "217     w914    Capomulin  Male          24          21         10   \n",
       "218     w914    Capomulin  Male          24          21         15   \n",
       "219     w914    Capomulin  Male          24          21         20   \n",
       "220     w914    Capomulin  Male          24          21         25   \n",
       "221     w914    Capomulin  Male          24          21         30   \n",
       "222     w914    Capomulin  Male          24          21         35   \n",
       "223     w914    Capomulin  Male          24          21         40   \n",
       "224     w914    Capomulin  Male          24          21         45   \n",
       "\n",
       "     Tumor Volume (mm3)  Metastatic Sites  \n",
       "215           45.000000                 0  \n",
       "216           45.893720                 0  \n",
       "217           43.231963                 0  \n",
       "218           43.688449                 0  \n",
       "219           41.108092                 0  \n",
       "220           40.291917                 0  \n",
       "221           40.993110                 0  \n",
       "222           41.664916                 1  \n",
       "223           35.611309                 2  \n",
       "224           36.041047                 2  "
      ]
     },
     "execution_count": 23,
     "metadata": {},
     "output_type": "execute_result"
    }
   ],
   "source": [
    "# Generate a line plot of tumor volume vs. time point for a mouse treated with Capomulin: Mouse ID w914\n",
    "capomulin_w914 = capomulin.loc[capomulin['Mouse ID']== 'w914', : ]\n",
    "capomulin_w914\n"
   ]
  },
  {
   "cell_type": "code",
   "execution_count": 24,
   "metadata": {},
   "outputs": [
    {
     "data": {
      "image/png": "[encoded data removed]",
      "text/plain": [
       "<Figure size 432x288 with 1 Axes>"
      ]
     },
     "metadata": {
      "needs_background": "light"
     },
     "output_type": "display_data"
    }
   ],
   "source": [
    "# Line Graph using Matplotlib\n",
    "plt.plot(capomulin_w914['Timepoint'],capomulin_w914['Tumor Volume (mm3)'],marker = 'x')\n",
    "plt.title(\"Capomulin Treatment for Mouse ID 'w914'\")\n",
    "plt.xlabel('Timepoint')\n",
    "plt.ylabel('Tumor Volume (mm3)')\n",
    "plt.show()"
   ]
  },
  {
   "cell_type": "code",
   "execution_count": 25,
   "metadata": {
    "scrolled": true
   },
   "outputs": [
    {
     "data": {
      "image/png": "[encoded data removed]",
      "text/plain": [
       "<Figure size 432x288 with 1 Axes>"
      ]
     },
     "metadata": {
      "needs_background": "light"
     },
     "output_type": "display_data"
    }
   ],
   "source": [
    "# Generate a scatter plot of average tumor volume vs. mouse weight for the Capomulin regimen\n",
    "cap_group = capomulin.groupby('Mouse ID')\n",
    "cap_avg = cap_group.mean()\n",
    "cap_avg\n",
    "plt.scatter(cap_avg['Weight (g)'] , cap_avg['Tumor Volume (mm3)'],marker = 'x')\n",
    "plt.title('Averge Tumor Volume (mm3) vs. Mouse Weight (g) for Capomulin Regimen')\n",
    "plt.xlabel('Weight (g)')\n",
    "plt.ylabel('Tumor Volume (mm3)')\n",
    "plt.show()"
   ]
  },
  {
   "cell_type": "markdown",
   "metadata": {},
   "source": [
    "## Correlation and Regression"
   ]
  },
  {
   "cell_type": "code",
   "execution_count": 77,
   "metadata": {},
   "outputs": [
    {
     "name": "stdout",
     "output_type": "stream",
     "text": [
      "The Correlation Coefficient for mouse weight and average Tumor Volume for Capolulin regimen is: 0.8419363424694717\n",
      "The Slope for mouse weight and average Tumr Volume for Capolulin regimen is: 0.9544396890241045\n",
      "The Intercept for mouse weight and average Tumr Volume for Capolulin regimen is: 21.552160532685015\n",
      "The p-value for mouse weight and average Tumr Volume for Capolulin regimen is: 1.3225722434712642e-07\n",
      "y = 0.9544x + 21.5522\n"
     ]
    }
   ],
   "source": [
    "# Calculate the correlation coefficient and linear regression model \n",
    "# for mouse weight and average tumor volume for the Capomulin regimen\n",
    "corr1 = st.pearsonr(cap_avg['Weight (g)'],cap_avg['Tumor Volume (mm3)'])[0]\n",
    "\n",
    "# rvalue should be the same as corr1\n",
    "(slope, intercept, rvalue, pvalue, stderr) = st.linregress(cap_avg['Weight (g)'], cap_avg['Tumor Volume (mm3)'])\n",
    "\n",
    "#y = mx + b\n",
    "reg_line = slope * cap_avg['Weight (g)'] + intercept\n",
    "\n",
    "print(f'The Correlation Coefficient for mouse weight and average Tumor Volume for Capolulin regimen is: {corr1}')\n",
    "print(f'The Slope for mouse weight and average Tumr Volume for Capolulin regimen is: {slope}')\n",
    "print(f'The Intercept for mouse weight and average Tumr Volume for Capolulin regimen is: {intercept}')\n",
    "print(f'The p-value for mouse weight and average Tumr Volume for Capolulin regimen is: {pvalue}')\n",
    "\n",
    "linear_eq = 'y = ' + str(round(slope,4))+ 'x + ' + str(round(intercept,4))\n",
    "print(linear_eq)\n"
   ]
  },
  {
   "cell_type": "code",
   "execution_count": 79,
   "metadata": {},
   "outputs": [
    {
     "data": {
      "image/png": "[encoded data removed]",
      "text/plain": [
       "<Figure size 432x288 with 1 Axes>"
      ]
     },
     "metadata": {
      "needs_background": "light"
     },
     "output_type": "display_data"
    }
   ],
   "source": [
    "# Scatter Plot with Linear regression Line \n",
    "plt.scatter(cap_avg['Weight (g)'],cap_avg['Tumor Volume (mm3)'])\n",
    "plt.plot(cap_avg['Weight (g)'],reg_line, 'r-')\n",
    "plt.annotate(linear_eq,(20,36),fontsize = 13,color = 'red')\n",
    "plt.title('Regression Graph Mouse Weight vs. Average TUmor Volume for Capolulin Regimen')\n",
    "plt.xlabel('Weight (g)')\n",
    "plt.ylabel('Tumor Volume (mm3)')\n",
    "plt.show()"
   ]
  },
  {
   "cell_type": "code",
   "execution_count": null,
   "metadata": {},
   "outputs": [],
   "source": []
  }
 ],
 "metadata": {
  "anaconda-cloud": {},
  "kernelspec": {
   "display_name": "Python 3",
   "language": "python",
   "name": "python3"
  },
  "language_info": {
   "codemirror_mode": {
    "name": "ipython",
    "version": 3
   },
   "file_extension": ".py",
   "mimetype": "text/x-python",
   "name": "python",
   "nbconvert_exporter": "python",
   "pygments_lexer": "ipython3",
   "version": "3.8.3"
  }
 },
 "nbformat": 4,
 "nbformat_minor": 4
}
